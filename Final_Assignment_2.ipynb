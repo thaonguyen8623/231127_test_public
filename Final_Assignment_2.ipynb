{
  "cells": [
    {
      "cell_type": "markdown",
      "metadata": {
        "id": "O-327zl0JKTY"
      },
      "source": [
        "# Assignment 2  (20 points)"
      ]
    },
    {
      "cell_type": "code",
      "execution_count": null,
      "metadata": {
        "collapsed": true,
        "id": "V4JtRGixJKTZ"
      },
      "outputs": [],
      "source": []
    },
    {
      "cell_type": "markdown",
      "source": [
        "Import olympics.csv file"
      ],
      "metadata": {
        "id": "z84kNSR8JwjJ"
      }
    },
    {
      "cell_type": "code",
      "execution_count": null,
      "metadata": {
        "collapsed": true,
        "id": "j0QYbrIaJKTa"
      },
      "outputs": [],
      "source": []
    },
    {
      "cell_type": "markdown",
      "metadata": {
        "id": "umHeSrB7JKTa"
      },
      "source": [
        "### List our Olympics DataFrame."
      ]
    },
    {
      "cell_type": "code",
      "execution_count": null,
      "metadata": {
        "id": "GL9B6WvdJKTb"
      },
      "outputs": [],
      "source": []
    },
    {
      "cell_type": "markdown",
      "metadata": {
        "id": "nGNJS75zJKTb"
      },
      "source": [
        "### List only the NOC column using both the ['..'] and dot notation. What type is this object? (2 points)"
      ]
    },
    {
      "cell_type": "code",
      "execution_count": null,
      "metadata": {
        "id": "YDeoAbP7JKTc"
      },
      "outputs": [],
      "source": []
    },
    {
      "cell_type": "markdown",
      "metadata": {
        "id": "oFovf6_wJKTc"
      },
      "source": [
        "### List the Edition, City, Athlete Name and Medal columns. What type is this object? (2 points)"
      ]
    },
    {
      "cell_type": "code",
      "execution_count": null,
      "metadata": {
        "id": "mAnxDQvIJKTc"
      },
      "outputs": [],
      "source": []
    },
    {
      "cell_type": "markdown",
      "source": [
        "In which events did Jesse Owens win a medal?"
      ],
      "metadata": {
        "id": "RtApWc1pKEr-"
      }
    },
    {
      "cell_type": "code",
      "execution_count": null,
      "metadata": {
        "collapsed": true,
        "id": "ybB_nEwgJKTc"
      },
      "outputs": [],
      "source": []
    },
    {
      "cell_type": "markdown",
      "source": [
        "Which country has won the most men's gold medals in singles badminton over the years? Sort the results alphabetically by the player's names.(2 points)"
      ],
      "metadata": {
        "id": "mAsVp9kZKPoD"
      }
    },
    {
      "cell_type": "code",
      "source": [],
      "metadata": {
        "id": "8J2esEAbKOpB"
      },
      "execution_count": null,
      "outputs": []
    },
    {
      "cell_type": "markdown",
      "source": [
        "Which three countries have won the most medals in recent years (from 1984 to 2008)? (2 points)"
      ],
      "metadata": {
        "id": "NxtHQ2kFKW35"
      }
    },
    {
      "cell_type": "code",
      "source": [],
      "metadata": {
        "id": "YwpJJQP6KWcY"
      },
      "execution_count": null,
      "outputs": []
    },
    {
      "cell_type": "markdown",
      "source": [
        "Display the male gold medal winners for the 100m Track event over the years. List the results starting with the most recent. Show the Olympic City, Edition, Athlete and the country they represent. (2 points)"
      ],
      "metadata": {
        "id": "SttwsWIXKav-"
      }
    },
    {
      "cell_type": "code",
      "source": [],
      "metadata": {
        "id": "z_TX9EUZKhR-"
      },
      "execution_count": null,
      "outputs": []
    },
    {
      "cell_type": "markdown",
      "source": [
        "Which countries did not win a medal in the 2008 Olympics? How many countries were there? (2 points)"
      ],
      "metadata": {
        "id": "8LD65wpBLG74"
      }
    },
    {
      "cell_type": "code",
      "source": [],
      "metadata": {
        "id": "POqglyBELJRZ"
      },
      "execution_count": null,
      "outputs": []
    },
    {
      "cell_type": "markdown",
      "source": [
        "Using groupby(), plot the total number of medals awarded at each of the Olympic games throughout history. (2 points)"
      ],
      "metadata": {
        "id": "MHbVFD3uLj4Q"
      }
    },
    {
      "cell_type": "code",
      "source": [],
      "metadata": {
        "id": "3fMZkWVHTjOB"
      },
      "execution_count": null,
      "outputs": []
    },
    {
      "cell_type": "markdown",
      "source": [
        "Create a list showing the total number of medals won for each country over the history of the Olympics. For each country, include the year of the first and most recent Olympic medal wins. (3 points)"
      ],
      "metadata": {
        "id": "S5gXE4Q8Lsw0"
      }
    },
    {
      "cell_type": "code",
      "source": [],
      "metadata": {
        "id": "6rgDQe9lTj9B"
      },
      "execution_count": null,
      "outputs": []
    },
    {
      "cell_type": "markdown",
      "source": [
        "Plot the number of medals achieved by the Chinese team (men and women) in Beijing 2008 using:\n",
        "- matplotlib\n",
        "- Seaborn      (3 points)"
      ],
      "metadata": {
        "id": "zJy44vanTHDi"
      }
    },
    {
      "cell_type": "code",
      "source": [],
      "metadata": {
        "id": "KJR9gERITkh7"
      },
      "execution_count": null,
      "outputs": []
    }
  ],
  "metadata": {
    "kernelspec": {
      "display_name": "Python 3",
      "language": "python",
      "name": "python3"
    },
    "language_info": {
      "codemirror_mode": {
        "name": "ipython",
        "version": 3
      },
      "file_extension": ".py",
      "mimetype": "text/x-python",
      "name": "python",
      "nbconvert_exporter": "python",
      "pygments_lexer": "ipython3",
      "version": "3.6.1"
    },
    "colab": {
      "provenance": []
    }
  },
  "nbformat": 4,
  "nbformat_minor": 0
}